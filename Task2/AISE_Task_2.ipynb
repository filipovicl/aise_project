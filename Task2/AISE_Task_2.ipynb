{
 "cells": [
  {
   "cell_type": "code",
   "execution_count": 1,
   "metadata": {},
   "outputs": [],
   "source": [
    "import numpy as np\n",
    "import itertools\n",
    "import matplotlib.pyplot as plt\n",
    "from sklearn.linear_model import Ridge"
   ]
  },
  {
   "cell_type": "code",
   "execution_count": 2,
   "metadata": {},
   "outputs": [],
   "source": [
    "def get_derivatives(u, x_points, deg = 3, order = 1):\n",
    "    \n",
    "    \"\"\"\n",
    "    Interpolates input function u with a polynomial fit of degree \"deg\",\n",
    "    using the available evaluation points x_points. \n",
    "    Takes the derivatives up to order \"order\" of the polynomial.\n",
    "\n",
    "    Input: \n",
    "    u        = values of the function on the grid\n",
    "    x_points = (available) points of the grid\n",
    "    deg      = polynomial interpolation degree\n",
    "    order    = order of derivatives\n",
    "\n",
    "    Output: \n",
    "    derivatives = list containing derivatives up to order \"order\",\n",
    "                  evaluated in the middle point of \"x_points\"\n",
    "    \"\"\"\n",
    "    \n",
    "    # Interpolate \n",
    "    coeffs = np.polyfit(x_points, u, deg)\n",
    "    poly   = np.poly1d(coeffs)\n",
    "    \n",
    "    # Derivatives \n",
    "    derivatives      = []\n",
    "    num_points       = len(x_points)\n",
    "    derivation_point = x_points[(num_points-1)//2]\n",
    "    \n",
    "    for i in range(1, order + 1):\n",
    "        derivatives.append(poly.deriv(m=i)(derivation_point))\n",
    "        \n",
    "    return derivatives"
   ]
  },
  {
   "cell_type": "code",
   "execution_count": 3,
   "metadata": {},
   "outputs": [],
   "source": [
    "def construct_theta(values, derivatives, derivatives_tags, deg):\n",
    "    \"\"\"\n",
    "    Constructs a matrix Theta with columns representing the values of all admissible \n",
    "    PDE terms, i.e. with polynomial degree up to \"deg\", and in combination with the \n",
    "    provided derivatives. \n",
    "    It also returns a list of tags (names) that describe the columns of Theta.\n",
    "\n",
    "    Input:\n",
    "    values           = n x k array containing the values of the standalone variables\n",
    "                    with each column corresponding to one variable\n",
    "    derivatives      = n x l array of derivatives of the variables\n",
    "    derivatives_tags = List of (string) tags for the columns of \"derivatives\"\n",
    "    deg              = Maximum degree of polynomial functions of the variables to include in Theta\n",
    "\n",
    "    Output:\n",
    "    Theta = Combined matrix of derivatives and polynomial terms.\n",
    "    tags  = List of (string) tags for the columns in Theta.  \n",
    "    \"\"\"\n",
    "    n, K  = values.shape      # K = number of variables\n",
    "    m, L  = derivatives.shape # L = number of provided derivatives\n",
    "\n",
    "    if n != m:\n",
    "        raise ValueError('Dimensions of values and derivatives do not match!')\n",
    "\n",
    "    # Generate all polynomial combinations of degrees up to deg\n",
    "    polynomials = list(itertools.product(range(deg + 1), repeat=K))\n",
    "    polynomials = [p for p in polynomials if 0 < sum(p) <= deg]\n",
    "\n",
    "    # Initialize Theta with a column of ones and corresponding tag\n",
    "    Theta = np.ones((n, 1), dtype=np.float64)\n",
    "    tags  = ['constant']\n",
    "\n",
    "    # Add derivatives to Theta\n",
    "    Theta = np.hstack([Theta, derivatives[:, 1:]])\n",
    "    tags.extend(derivatives_tags[1:])\n",
    "\n",
    "    # Add polynomial terms multiplied by derivatives\n",
    "    for poly in polynomials:\n",
    "        poly_values = np.prod(values**np.array(poly), axis=1, keepdims=True)\n",
    "        for i in range(L):\n",
    "            new_column = poly_values * derivatives[:, i:i + 1]\n",
    "            Theta = np.hstack([Theta, new_column])\n",
    "            tags.append(f\"poly{poly}\" +derivatives_tags[i])\n",
    "\n",
    "    return Theta, tags\n"
   ]
  },
  {
   "cell_type": "code",
   "execution_count": 4,
   "metadata": {},
   "outputs": [],
   "source": [
    "def print_terms(xi, tags):\n",
    "    '''\n",
    "    Prints all terms of the PDE's operator D\n",
    "    with respective coefficients\n",
    "    (PDE): u_t = D(u,u_{x},u_{xx},u^2, etc.)\n",
    "    '''\n",
    "    print(\"D = \")\n",
    "    for i in range(len(xi)):\n",
    "        if xi[i] != 0:\n",
    "            print(xi[i], tags[i])\n"
   ]
  },
  {
   "cell_type": "code",
   "execution_count": 5,
   "metadata": {},
   "outputs": [],
   "source": [
    "def sequential_ridge(Theta, ut, lambda_val, tol, max_iter):\n",
    "    \"\"\"\n",
    "    Sequential Threshold Ridge Regression (sequential_ridge)\n",
    "    Repeats Ridge Regression while eliminating unsignificant xi elements\n",
    "    in order to achieve a sparse result. \n",
    "    Input:\n",
    "    Theta      =  Theta matrix (n x d)\n",
    "    ut         =  Target vector for the regression (ut = Theta * xi)\n",
    "    lambda_val =  Regularization parameter for Ridge Regression\n",
    "    max_iter   =  Maximum number of iterations \n",
    "    tol        =  Threshold tolerance\n",
    "    \n",
    "    Output:\n",
    "    xi         =  Sparse solution for coefficients of PDE terms (d x 1)\n",
    "    \"\"\"\n",
    "    n, d = Theta.shape\n",
    "\n",
    "    # Normalize columns of Theta matrix\n",
    "    normalizer = 1.0 / np.sqrt(np.sum(Theta**2, axis=0))\n",
    "    Theta_n = Theta * normalizer\n",
    "    ut = ut.flatten() \n",
    "\n",
    "    # First Ridge Regression\n",
    "    ridge = Ridge(alpha=lambda_val, fit_intercept=False)\n",
    "    ridge.fit(Theta_n, ut)\n",
    "    xi = ridge.coef_\n",
    "\n",
    "    # Iterate sequential Ridge Regressions\n",
    "    for _ in range(max_iter):\n",
    "        # Eliminate elements below tolerance threshold\n",
    "        big_ids = np.where(abs(xi) >= tol)[0]\n",
    "        if len(big_ids) == 0: # in case all elements were eliminated \n",
    "            break\n",
    "\n",
    "        # Fit for significant elements only\n",
    "        Theta_sparse = Theta_n[:, big_ids]\n",
    "        ridge.fit(Theta_sparse, ut)\n",
    "        xi_sparse = ridge.coef_\n",
    "\n",
    "        # Reset xi and insert significant elements\n",
    "        xi = np.zeros(d)\n",
    "        xi[big_ids] = xi_sparse\n",
    "\n",
    "    # Last Ridge Regression for sparse xi\n",
    "    if len(big_ids) > 0:\n",
    "        Theta_sparse = Theta_n[:, big_ids]\n",
    "        ridge.fit(Theta_sparse, ut)\n",
    "        xi_sparse = ridge.coef_\n",
    "        xi = np.zeros(d)\n",
    "        xi[big_ids] = xi_sparse\n",
    "\n",
    "    # Ensure output shape is (d, 1)\n",
    "    xi = xi.reshape(-1, 1)\n",
    "\n",
    "    # Rescale coefficients (because of normalization)\n",
    "    xi = xi * normalizer.reshape(-1, 1) \n",
    "    return xi \n"
   ]
  },
  {
   "cell_type": "code",
   "execution_count": 6,
   "metadata": {},
   "outputs": [
    {
     "name": "stdout",
     "output_type": "stream",
     "text": [
      "Datasets shapes:  (256, 101) (256,) (101,)\n"
     ]
    }
   ],
   "source": [
    "#@title Dataset 1\n",
    "\n",
    "# Extract PDE data from Dataset 1\n",
    "dataset = np.load(\"1.npz\")\n",
    "U = dataset['u']\n",
    "X = dataset['x'][:,0]\n",
    "T = dataset['t'][0]\n",
    "print(\"Datasets shapes: \", U.shape, X.shape, T.shape)\n",
    "dt = T[1]-T[0]\n",
    "dx = X[2]-X[1]\n",
    "\n",
    "n = len(X)"
   ]
  },
  {
   "cell_type": "code",
   "execution_count": 7,
   "metadata": {},
   "outputs": [
    {
     "name": "stdout",
     "output_type": "stream",
     "text": [
      "['constant', 'u_x', 'u_xx', 'poly(1,)', 'poly(1,)u_x', 'poly(1,)u_xx', 'poly(2,)', 'poly(2,)u_x', 'poly(2,)u_xx']\n"
     ]
    }
   ],
   "source": [
    "#@title Dataset 1 Sampling \n",
    "np.random.seed(42) # seeding\n",
    "\n",
    "num_x = 100  # number of sampled spatial points\n",
    "num_t = 50   # number of sampled temporal points for each spatial point\n",
    "num_samples = num_x * num_t\n",
    "padding = 5 # must exclude boundary points for interpolation used in get_derivative()\n",
    "\n",
    "coords = {}  # collect sample coordinates in a dictionary\n",
    "j = 0\n",
    "\n",
    "for i in range(num_x):\n",
    "    x = np.random.choice(np.arange(padding,n-padding),1)[0]\n",
    "    for t in range(padding, num_t - padding):\n",
    "        coords[j] = [x,t]\n",
    "        j += 1\n",
    "\n",
    "N = 2*padding-1  # polynomial fitting points\n",
    "deg = 4          # degree of polynomial to use\n",
    "\n",
    "# Compute u and its derivatives up to the second order\n",
    "u   = np.zeros((num_samples,1))\n",
    "ut  = np.zeros((num_samples,1))\n",
    "ux  = np.zeros((num_samples,1))\n",
    "uxx = np.zeros((num_samples,1))\n",
    "\n",
    "for c in coords.keys():\n",
    "    # point coordinates\n",
    "    [x,t] = coords[c]\n",
    "    \n",
    "    # value of function\n",
    "    u[c] = U[x,t]\n",
    "    \n",
    "    # time derivatives\n",
    "    ut[c] = get_derivatives(U[x,t-(N-1)//2:t+(N+1)//2], np.arange(N)*dt, deg, 1)[0]\n",
    "    \n",
    "    # spatial derivatives\n",
    "    u_derivatives = get_derivatives(U[x-(N-1)//2:x+(N+1)//2,t], np.arange(N)*dx, deg, 2)\n",
    "    \n",
    "    ux[c]   = u_derivatives[0]\n",
    "    uxx[c]  = u_derivatives[1]\n",
    "\n",
    "# Construct Theta by stacking a \"ones\" column and the computed derivatives \n",
    "# Also provide tags of all derivatives\n",
    "derivatives      = np.hstack([np.ones((num_samples,1)), ux, uxx])\n",
    "derivatives_tags = ['','u_x', 'u_xx']\n",
    "Theta, tags      = construct_theta(u, derivatives, derivatives_tags, 2)\n",
    "\n",
    "print(tags)"
   ]
  },
  {
   "cell_type": "code",
   "execution_count": 8,
   "metadata": {},
   "outputs": [
    {
     "name": "stdout",
     "output_type": "stream",
     "text": [
      "D = \n",
      "[0.09978634] u_xx\n",
      "[-0.99922242] poly(1,)u_x\n"
     ]
    }
   ],
   "source": [
    "#@title Find PDE for Dataset 1\n",
    "xi = sequential_ridge(Theta,ut,10**-3,1.0,10)\n",
    "\n",
    "print_terms(xi, tags)"
   ]
  },
  {
   "cell_type": "code",
   "execution_count": 9,
   "metadata": {},
   "outputs": [
    {
     "name": "stdout",
     "output_type": "stream",
     "text": [
      "Datasets shapes:  (512, 201) (512,) (201,)\n"
     ]
    }
   ],
   "source": [
    "#@title Dataset 2\n",
    "\n",
    "# Extract PDE data from dataset 2\n",
    "dataset = np.load(\"2.npz\")\n",
    "U = dataset['u']\n",
    "X = dataset['x'][:,0]\n",
    "T = dataset['t'][0]\n",
    "print(\"Datasets shapes: \", U.shape, X.shape, T.shape)\n",
    "dt = T[1]-T[0]\n",
    "dx = X[2]-X[1]\n",
    "\n",
    "n = len(X)"
   ]
  },
  {
   "cell_type": "code",
   "execution_count": 10,
   "metadata": {},
   "outputs": [
    {
     "name": "stdout",
     "output_type": "stream",
     "text": [
      "['constant', 'u_x', 'u_xx', 'u_xxx', 'poly(1,)', 'poly(1,)u_x', 'poly(1,)u_xx', 'poly(1,)u_xxx', 'poly(2,)', 'poly(2,)u_x', 'poly(2,)u_xx', 'poly(2,)u_xxx']\n"
     ]
    }
   ],
   "source": [
    "#@title Dataset 2 Sampling\n",
    "\n",
    "num_x = 200 \n",
    "num_t = 100\n",
    "num_samples = num_x * num_t\n",
    "padding    = 5\n",
    "\n",
    "coords = {}\n",
    "j = 0\n",
    "\n",
    "for p in range(num_x):\n",
    "    x = np.random.choice(np.arange(padding,n-padding),1)[0]\n",
    "    for t in range(padding, num_t - padding):\n",
    "        coords[j] = [x,t]\n",
    "        j += 1\n",
    "\n",
    "# Compute u and its derivatives up to the third order\n",
    "u    = np.zeros((num_samples,1))\n",
    "ut   = np.zeros((num_samples,1))\n",
    "ux   = np.zeros((num_samples,1))\n",
    "uxx  = np.zeros((num_samples,1))\n",
    "uxxx = np.zeros((num_samples,1))\n",
    "\n",
    "N   = 2*padding-1  \n",
    "deg = 4             \n",
    "\n",
    "for p in coords.keys():\n",
    "    [x,t] = coords[p]\n",
    "    u[p]  = U[x,t]\n",
    "    ut[p] = get_derivatives(U[x,t-(N-1)//2:t+(N+1)//2], np.arange(N)*dt, deg, 1)[0]\n",
    "\n",
    "    ux_derivatives = get_derivatives(U[x-(N-1)//2:x+(N+1)//2,t], np.arange(N)*dx, deg, 3)\n",
    "    ux[p]   = ux_derivatives[0]\n",
    "    uxx[p]  = ux_derivatives[1]\n",
    "    uxxx[p] = ux_derivatives[2]\n",
    "\n",
    "# Construct Theta \n",
    "derivatives = np.hstack([np.ones((num_samples,1)), ux, uxx, uxxx])\n",
    "derivatives_tags = ['','u_x', 'u_xx','u_xxx']\n",
    "Theta, tags = construct_theta(u, derivatives, derivatives_tags, 2)\n",
    "print(tags)\n"
   ]
  },
  {
   "cell_type": "code",
   "execution_count": 11,
   "metadata": {},
   "outputs": [
    {
     "name": "stdout",
     "output_type": "stream",
     "text": [
      "D = \n",
      "[-1.05950493] u_xxx\n",
      "[-6.09797082] poly(1,)u_x\n"
     ]
    }
   ],
   "source": [
    "#@title Find PDE for Dataset 2\n",
    "\n",
    "xi = sequential_ridge(Theta,ut,10**-5,1.0,10)\n",
    "print_terms(xi, tags)"
   ]
  },
  {
   "cell_type": "code",
   "execution_count": 12,
   "metadata": {},
   "outputs": [
    {
     "name": "stdout",
     "output_type": "stream",
     "text": [
      "Dataset shapes:  (256, 256, 201) (256,) (256,) (201,)\n"
     ]
    }
   ],
   "source": [
    "#@title Dataset 3\n",
    "\n",
    "dataset = np.load('3.npz')\n",
    "T = dataset['t'][0,0,:]\n",
    "X = dataset['x'][:,0,0]\n",
    "Y = dataset['y'][0,:,0]\n",
    "U = dataset['u']\n",
    "V = dataset['v']\n",
    "print(\"Dataset shapes: \", U.shape, X.shape, Y.shape, T.shape)\n",
    "\n",
    "n = len(X)\n",
    "steps = len(T)\n",
    "dx = X[2]-X[1]\n",
    "dy = Y[2]-Y[1]\n",
    "dt = T[2]-T[1]\n"
   ]
  },
  {
   "cell_type": "code",
   "execution_count": 13,
   "metadata": {},
   "outputs": [],
   "source": [
    "#@title Dataset 3 Sampling\n",
    "\n",
    "num_xy = 500\n",
    "num_t  = 30\n",
    "num_samples = num_xy * num_t\n",
    "padding = 5\n",
    "\n",
    "coords = {}\n",
    "j = 0\n",
    "\n",
    "for t in range(padding, num_t-padding):\n",
    "    for p in range(num_xy):\n",
    "        x = np.random.choice(np.arange(padding,n-padding),1)[0]\n",
    "        y = np.random.choice(np.arange(padding,n-padding),1)[0]\n",
    "        coords[j] = [x,y,t]\n",
    "        j += 1\n",
    "\n",
    "# Compute u,v and derivatives w.r.t x & y\n",
    "u   = np.zeros((num_samples,1))\n",
    "v   = np.zeros((num_samples,1))\n",
    "ut  = np.zeros((num_samples,1))\n",
    "vt  = np.zeros((num_samples,1))\n",
    "ux  = np.zeros((num_samples,1))\n",
    "uy  = np.zeros((num_samples,1))\n",
    "uxx = np.zeros((num_samples,1))\n",
    "uxy = np.zeros((num_samples,1))\n",
    "uyy = np.zeros((num_samples,1))\n",
    "vx  = np.zeros((num_samples,1))\n",
    "vy  = np.zeros((num_samples,1))\n",
    "vxx = np.zeros((num_samples,1))\n",
    "vxy = np.zeros((num_samples,1))\n",
    "vyy = np.zeros((num_samples,1))\n",
    "\n",
    "N = 2*padding-1 \n",
    "deg = 4\n",
    "\n",
    "lin_t = np.arange(N)*dt\n",
    "lin_x = np.arange(N)*dx\n",
    "lin_y = np.arange(N)*dy\n",
    "\n",
    "for p in coords.keys():\n",
    "    \n",
    "    [x,y,t] = coords[p]\n",
    "    u[p] = U[x,y,t]\n",
    "    v[p] = V[x,y,t]\n",
    "    \n",
    "    ux_d = get_derivatives(U[x-(N-1)//2:x+(N+1)//2,y,t], lin_x, deg, 2)\n",
    "    uy_d = get_derivatives(U[x,y-(N-1)//2:y+(N+1)//2,t], lin_y, deg, 2)\n",
    "    vx_d = get_derivatives(V[x-(N-1)//2:x+(N+1)//2,y,t], lin_x, deg, 2)\n",
    "    vy_d = get_derivatives(V[x,y-(N-1)//2:y+(N+1)//2,t], lin_y, deg, 2)\n",
    "    \n",
    "    ux[p]  = ux_d[0]\n",
    "    uy[p]  = uy_d[0]\n",
    "    uxx[p] = ux_d[1]\n",
    "    uyy[p] = uy_d[1]\n",
    "\n",
    "    vx[p]  = vx_d[0]\n",
    "    vy[p]  = vy_d[0]\n",
    "    vxx[p] = vx_d[1]\n",
    "    vyy[p] = vy_d[1]\n",
    "\n",
    "    ut[p] = get_derivatives(U[x,y,t-(N-1)//2:t+(N+1)//2], lin_t, deg, 1)[0]\n",
    "    vt[p] = get_derivatives(V[x,y,t-(N-1)//2:t+(N+1)//2], lin_t, deg, 1)[0]\n",
    "\n",
    "    # construct mixed derivatives\n",
    "    ux_d_y_A = get_derivatives(U[x-(N-1)//2:x+(N+1)//2,y+1,t], lin_x, deg, 2)\n",
    "    ux_d_y_B = get_derivatives(U[x-(N-1)//2:x+(N+1)//2,y-1,t], lin_x, deg, 2)\n",
    "    vx_d_y_A = get_derivatives(V[x-(N-1)//2:x+(N+1)//2,y+1,t], lin_x, deg, 2)\n",
    "    vx_d_y_B = get_derivatives(V[x-(N-1)//2:x+(N+1)//2,y-1,t], lin_x, deg, 2)\n",
    "    \n",
    "    uxy[p] = (ux_d_y_A[0]-ux_d_y_B[0])/(2*dy)\n",
    "    vxy[p] = (vx_d_y_A[0]-vx_d_y_B[0])/(2*dy)\n"
   ]
  },
  {
   "cell_type": "code",
   "execution_count": 14,
   "metadata": {},
   "outputs": [
    {
     "name": "stdout",
     "output_type": "stream",
     "text": [
      "['constant', 'u_x', 'u_y', 'u_xx', 'u_xy', 'u_yy', 'v_x', 'v_y', 'v_xx', 'v_xy', 'v_yy', 'poly(0, 1)', 'poly(0, 1)u_x', 'poly(0, 1)u_y', 'poly(0, 1)u_xx', 'poly(0, 1)u_xy', 'poly(0, 1)u_yy', 'poly(0, 1)v_x', 'poly(0, 1)v_y', 'poly(0, 1)v_xx', 'poly(0, 1)v_xy', 'poly(0, 1)v_yy', 'poly(0, 2)', 'poly(0, 2)u_x', 'poly(0, 2)u_y', 'poly(0, 2)u_xx', 'poly(0, 2)u_xy', 'poly(0, 2)u_yy', 'poly(0, 2)v_x', 'poly(0, 2)v_y', 'poly(0, 2)v_xx', 'poly(0, 2)v_xy', 'poly(0, 2)v_yy', 'poly(0, 3)', 'poly(0, 3)u_x', 'poly(0, 3)u_y', 'poly(0, 3)u_xx', 'poly(0, 3)u_xy', 'poly(0, 3)u_yy', 'poly(0, 3)v_x', 'poly(0, 3)v_y', 'poly(0, 3)v_xx', 'poly(0, 3)v_xy', 'poly(0, 3)v_yy', 'poly(1, 0)', 'poly(1, 0)u_x', 'poly(1, 0)u_y', 'poly(1, 0)u_xx', 'poly(1, 0)u_xy', 'poly(1, 0)u_yy', 'poly(1, 0)v_x', 'poly(1, 0)v_y', 'poly(1, 0)v_xx', 'poly(1, 0)v_xy', 'poly(1, 0)v_yy', 'poly(1, 1)', 'poly(1, 1)u_x', 'poly(1, 1)u_y', 'poly(1, 1)u_xx', 'poly(1, 1)u_xy', 'poly(1, 1)u_yy', 'poly(1, 1)v_x', 'poly(1, 1)v_y', 'poly(1, 1)v_xx', 'poly(1, 1)v_xy', 'poly(1, 1)v_yy', 'poly(1, 2)', 'poly(1, 2)u_x', 'poly(1, 2)u_y', 'poly(1, 2)u_xx', 'poly(1, 2)u_xy', 'poly(1, 2)u_yy', 'poly(1, 2)v_x', 'poly(1, 2)v_y', 'poly(1, 2)v_xx', 'poly(1, 2)v_xy', 'poly(1, 2)v_yy', 'poly(2, 0)', 'poly(2, 0)u_x', 'poly(2, 0)u_y', 'poly(2, 0)u_xx', 'poly(2, 0)u_xy', 'poly(2, 0)u_yy', 'poly(2, 0)v_x', 'poly(2, 0)v_y', 'poly(2, 0)v_xx', 'poly(2, 0)v_xy', 'poly(2, 0)v_yy', 'poly(2, 1)', 'poly(2, 1)u_x', 'poly(2, 1)u_y', 'poly(2, 1)u_xx', 'poly(2, 1)u_xy', 'poly(2, 1)u_yy', 'poly(2, 1)v_x', 'poly(2, 1)v_y', 'poly(2, 1)v_xx', 'poly(2, 1)v_xy', 'poly(2, 1)v_yy', 'poly(3, 0)', 'poly(3, 0)u_x', 'poly(3, 0)u_y', 'poly(3, 0)u_xx', 'poly(3, 0)u_xy', 'poly(3, 0)u_yy', 'poly(3, 0)v_x', 'poly(3, 0)v_y', 'poly(3, 0)v_xx', 'poly(3, 0)v_xy', 'poly(3, 0)v_yy']\n"
     ]
    }
   ],
   "source": [
    "#@title Construct Theta for Dataset 3\n",
    "# Construct Theta\n",
    "values = np.hstack([u,v])\n",
    "derivatives = np.hstack([np.ones((num_samples,1)), ux, uy, uxx, uxy, uyy, vx, vy, vxx, vxy, vyy])\n",
    "derivatives_tags = ['','u_x', 'u_y','u_xx','u_xy','u_yy','v_x', 'v_y','v_xx','v_xy','v_yy']\n",
    "Theta, tags = construct_theta(values, derivatives, derivatives_tags, 3)\n",
    "print(tags)\n"
   ]
  },
  {
   "cell_type": "code",
   "execution_count": 18,
   "metadata": {},
   "outputs": [
    {
     "name": "stdout",
     "output_type": "stream",
     "text": [
      "D = \n",
      "[0.09859156] u_xx\n",
      "[0.09871377] u_yy\n",
      "[1.0001812] poly(0, 3)\n",
      "[0.98838576] poly(1, 0)\n",
      "[-0.98888502] poly(1, 2)\n",
      "[0.99990977] poly(2, 1)\n",
      "[-0.98889484] poly(3, 0)\n"
     ]
    }
   ],
   "source": [
    "#@title Find PDE for Dataset 3 (u_t)\n",
    "xi = sequential_ridge(Theta,ut,10**-5,1.0,10)\n",
    "print_terms(xi, tags)"
   ]
  },
  {
   "cell_type": "code",
   "execution_count": null,
   "metadata": {},
   "outputs": [],
   "source": []
  },
  {
   "cell_type": "code",
   "execution_count": 17,
   "metadata": {},
   "outputs": [
    {
     "name": "stdout",
     "output_type": "stream",
     "text": [
      "D = \n",
      "[0.09857323] v_xx\n",
      "[0.09873052] v_yy\n",
      "[0.98672801] poly(0, 1)\n",
      "[-0.98710456] poly(0, 3)\n",
      "[-1.00001944] poly(1, 2)\n",
      "[-0.98705056] poly(2, 1)\n",
      "[-1.0001314] poly(3, 0)\n"
     ]
    }
   ],
   "source": [
    "#@title Find PDE for Dataset 3 (v_t)\n",
    "xi = sequential_ridge(Theta,vt,10**-5,1.0,10)\n",
    "print_terms(xi, tags)"
   ]
  }
 ],
 "metadata": {
  "kernelspec": {
   "display_name": "aise2",
   "language": "python",
   "name": "python3"
  },
  "language_info": {
   "codemirror_mode": {
    "name": "ipython",
    "version": 3
   },
   "file_extension": ".py",
   "mimetype": "text/x-python",
   "name": "python",
   "nbconvert_exporter": "python",
   "pygments_lexer": "ipython3",
   "version": "3.8.20"
  }
 },
 "nbformat": 4,
 "nbformat_minor": 2
}
